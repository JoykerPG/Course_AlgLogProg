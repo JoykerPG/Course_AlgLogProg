{
 "cells": [
  {
   "cell_type": "markdown",
   "metadata": {},
   "source": [
    "# Algoritmos Lógica de Programação\n",
    "\n",
    "## Módulo Intermdiário\n",
    "\n",
    "# Aula 2 - Funções e Variáveis de Contagem\n",
    "\n",
    "Exercícios"
   ]
  },
  {
   "cell_type": "code",
   "execution_count": 3,
   "metadata": {},
   "outputs": [
    {
     "name": "stdout",
     "output_type": "stream",
     "text": [
      "\n",
      "Valor do Contador: 0\n",
      "\n",
      "Valor do Contador: 1\n",
      "\n",
      "Valor do Contador: 2\n",
      "\n",
      "Valor do Contador: 3\n"
     ]
    }
   ],
   "source": [
    "cont = 0\n",
    "while cont <4:\n",
    "    print(\"\\nValor do Contador:\" , cont)\n",
    "    cont = cont + 1"
   ]
  },
  {
   "cell_type": "markdown",
   "metadata": {},
   "source": []
  },
  {
   "cell_type": "markdown",
   "metadata": {},
   "source": [
    "## Resolução Exercício Aula 1\n",
    "\n",
    "1) Reescreva seu Código do Teste - Covid.\n",
    "<br/>\n",
    "2) Construa Saudaões e Menu.<br/>\n",
    "    2.1 - Utilize Funções<br/>\n",
    "    2.2 - Aplique a Função RANDOM<br/>\n",
    "\n",
    "3) Repetição<br/>\n",
    "    3.1 - O programa só deverpa fecharm, após coletar as 4 perguntas, 3 vezes.<br/>\n",
    "          Ou seja, simular a realização da pesquisa, com 3 usuários."
   ]
  },
  {
   "cell_type": "code",
   "execution_count": 11,
   "metadata": {},
   "outputs": [
    {
     "name": "stdout",
     "output_type": "stream",
     "text": [
      "\n",
      "Olá, bem-vindo ao Teste Covid.\n",
      "\n",
      "======   MENU   =====\n",
      "\n",
      "Digite [1] Entrar ou [2] Sair\n",
      "\n",
      "Vá ao médico URGENTE!!!\n",
      "\n",
      "\n",
      "Aguarde em observação.\n",
      "\n",
      "\n",
      "Vá ao médico URGENTE!!!\n",
      "\n"
     ]
    }
   ],
   "source": [
    "import random\n",
    "#FUNCOES\n",
    "def saudacao():\n",
    "    saud1 = \"\\nOlá, bem-vindo ao Teste Covid.\"\n",
    "    saud2 = \"\\nQue bom que você esta aqui para Teste do Covid.\"\n",
    "    saud3 = \"\\nEstamos feLizes por você se preocupar.\"\n",
    "\n",
    "    saudprincipal = random.randint(1,3)\n",
    "    if saudprincipal == 1:\n",
    "        print(saud1)\n",
    "    if saudprincipal == 2:\n",
    "        print(saud2)\n",
    "    if saudprincipal == 3:\n",
    "        print(saud3)\n",
    "\n",
    "def menu():\n",
    "    print(\"\\n======   MENU   =====\")\n",
    "    print(\"\\nDigite [1] Entrar ou [2] Sair\")\n",
    "    menu = int(input())\n",
    "    while menu!=1 and menu!=2:\n",
    "        print(\"\\nOpção Inválida...\")\n",
    "        print(\"\\nDigite [1] Entrar ou [2] Sair\")\n",
    "        menu = int(input())\n",
    "    if menu == 2:\n",
    "        print(\"\\nPROGRAMA FINALIZADO\\n\")\n",
    "        #exit()\n",
    "\n",
    "def diagnostico():\n",
    "    resp01 = int(input(\"Tem febre? [1] Sim ou [2] Não\\n\"))\n",
    "    resp02 = int(input(\"Tem tosse? [1] Sim ou [2] Não\\n\"))\n",
    "    resp03 = int(input(\"Tem perda de paladar? [1] Sim ou [2] Não\\n\"))\n",
    "    resp04 = int(input(\"Tem perda de olfato? [1] Sim ou [2] Não\\n\"))\n",
    "    if resp03 == 1 or resp04 == 1:\n",
    "        print(\"\\nVá ao médico URGENTE!!!\\n\")\n",
    "    else:\n",
    "        print(\"\\nAguarde em observação.\\n\")    \n",
    "    \n",
    "    \n",
    "\n",
    "#PROGRAMA PRINCIPAL\n",
    "saudacao()\n",
    "menu()\n",
    "cont = 1\n",
    "while cont < 3:\n",
    "    diagnostico()\n",
    "    cont = cont +1\n",
    "diagnostico()"
   ]
  },
  {
   "cell_type": "markdown",
   "metadata": {},
   "source": [
    "### Exercício Aula 2\n",
    "\n",
    "1) Realize o Teste da Covid com 5 usuários.<br/>\n",
    "\n",
    "2) Calcule:<br/>\n",
    "    2.1 - Quantidade de Usuários com sintoma Febre.<br/>\n",
    "    2.2 - Quantidade de Usuários com sintoma Tosse.<br/>\n",
    "    2.3 - Quantidade de Usuários com sintoma Falta de Paladar.<br/>\n",
    "    2.4 - Quantidade de Usuários com sintoma Perde de Olfato.<br/>\n",
    "    2.5 - Quantidade de Usuários com Falta de Paladar e Perda de olfato."
   ]
  },
  {
   "cell_type": "code",
   "execution_count": null,
   "metadata": {},
   "outputs": [],
   "source": []
  }
 ],
 "metadata": {
  "kernelspec": {
   "display_name": "Python 3.9.12 ('base')",
   "language": "python",
   "name": "python3"
  },
  "language_info": {
   "codemirror_mode": {
    "name": "ipython",
    "version": 3
   },
   "file_extension": ".py",
   "mimetype": "text/x-python",
   "name": "python",
   "nbconvert_exporter": "python",
   "pygments_lexer": "ipython3",
   "version": "3.9.12"
  },
  "orig_nbformat": 4,
  "vscode": {
   "interpreter": {
    "hash": "8968d06e6cc76f9110497d32168736498e00a9d0bb4acaa377f6a2c628aa503b"
   }
  }
 },
 "nbformat": 4,
 "nbformat_minor": 2
}
